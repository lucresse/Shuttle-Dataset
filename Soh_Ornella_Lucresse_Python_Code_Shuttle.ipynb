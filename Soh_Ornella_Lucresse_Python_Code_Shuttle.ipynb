{
  "nbformat": 4,
  "nbformat_minor": 0,
  "metadata": {
    "kernelspec": {
      "display_name": "Python 3",
      "language": "python",
      "name": "python3"
    },
    "language_info": {
      "codemirror_mode": {
        "name": "ipython",
        "version": 3
      },
      "file_extension": ".py",
      "mimetype": "text/x-python",
      "name": "python",
      "nbconvert_exporter": "python",
      "pygments_lexer": "ipython3",
      "version": "3.7.3"
    },
    "colab": {
      "name": "Dataset_Shuttle_classification.ipynb",
      "provenance": [],
      "collapsed_sections": [
        "60yv1PNlGoib",
        "W99Osa_-GojE"
      ],
      "toc_visible": true
    },
    "accelerator": "GPU"
  },
  "cells": [
    {
      "cell_type": "markdown",
      "metadata": {
        "id": "0Gj37IukGohv",
        "colab_type": "text"
      },
      "source": [
        "### The Statlog Shuttle dataset contains nine attributes all of which are numerical. The first one being time. The last column is refered to the class which contains seven categories."
      ]
    },
    {
      "cell_type": "code",
      "metadata": {
        "id": "8nCKFvUIGohx",
        "colab_type": "code",
        "outputId": "aca7b87c-749f-4038-e1cf-47cfa84e09da",
        "colab": {
          "base_uri": "https://localhost:8080/",
          "height": 141
        }
      },
      "source": [
        "# useful importations\n",
        "\n",
        "import numpy as np\n",
        "\n",
        "# We will be using sklearn preprocessing library as it will be easier to standardize the data\n",
        "from sklearn import preprocessing\n",
        "\n",
        "import pandas as pd \n",
        "\n",
        "# For zscore\n",
        "from scipy import stats \n",
        "\n",
        "import matplotlib.pyplot as plt\n",
        "import seaborn as sns\n",
        "\n",
        "# For scaling\n",
        "from sklearn.preprocessing import StandardScaler, MinMaxScaler, RobustScaler\n",
        "\n",
        "from sklearn.linear_model import LogisticRegression\n",
        "\n",
        "from sklearn.metrics import classification_report, confusion_matrix, accuracy_score, precision_score, f1_score, recall_score\n",
        "\n",
        "from sklearn.neighbors import KNeighborsClassifier\n",
        "from sklearn import svm\n",
        "\n",
        "import time\n",
        "from timeit import default_timer as timer\n",
        "from imblearn.over_sampling import RandomOverSampler, SMOTE\n",
        "\n",
        "from scipy.stats import expon \n"
      ],
      "execution_count": 2,
      "outputs": [
        {
          "output_type": "stream",
          "text": [
            "/usr/local/lib/python3.6/dist-packages/statsmodels/tools/_testing.py:19: FutureWarning: pandas.util.testing is deprecated. Use the functions in the public API at pandas.testing instead.\n",
            "  import pandas.util.testing as tm\n",
            "/usr/local/lib/python3.6/dist-packages/sklearn/externals/six.py:31: FutureWarning: The module is deprecated in version 0.21 and will be removed in version 0.23 since we've dropped support for Python 2.7. Please rely on the official version of six (https://pypi.org/project/six/).\n",
            "  \"(https://pypi.org/project/six/).\", FutureWarning)\n",
            "/usr/local/lib/python3.6/dist-packages/sklearn/utils/deprecation.py:144: FutureWarning: The sklearn.neighbors.base module is  deprecated in version 0.22 and will be removed in version 0.24. The corresponding classes / functions should instead be imported from sklearn.neighbors. Anything that cannot be imported from sklearn.neighbors is now part of the private API.\n",
            "  warnings.warn(message, FutureWarning)\n"
          ],
          "name": "stderr"
        }
      ]
    },
    {
      "cell_type": "markdown",
      "metadata": {
        "id": "5GBoBseuGoh2",
        "colab_type": "text"
      },
      "source": [
        "## Data extraction"
      ]
    },
    {
      "cell_type": "code",
      "metadata": {
        "id": "3MZ-JErFGoh3",
        "colab_type": "code",
        "colab": {}
      },
      "source": [
        "data_train = pd.read_csv(\"shuttle.trn\", delimiter=' ', header=None)\n",
        "data_test = pd.read_csv(\"shuttle.tst\", delimiter=' ', header=None)\n"
      ],
      "execution_count": 0,
      "outputs": []
    },
    {
      "cell_type": "markdown",
      "metadata": {
        "id": "VpAQrLAiGoh6",
        "colab_type": "text"
      },
      "source": [
        " ## Exploratory data analysis\n"
      ]
    },
    {
      "cell_type": "code",
      "metadata": {
        "id": "4zbjwT8cGoh7",
        "colab_type": "code",
        "outputId": "a6c55c2d-a653-4ab9-b216-ea5b1fc2105e",
        "colab": {
          "base_uri": "https://localhost:8080/",
          "height": 171
        }
      },
      "source": [
        "# To read the data\n",
        "data_train.head(4)"
      ],
      "execution_count": 0,
      "outputs": [
        {
          "output_type": "execute_result",
          "data": {
            "text/html": [
              "<div>\n",
              "<style scoped>\n",
              "    .dataframe tbody tr th:only-of-type {\n",
              "        vertical-align: middle;\n",
              "    }\n",
              "\n",
              "    .dataframe tbody tr th {\n",
              "        vertical-align: top;\n",
              "    }\n",
              "\n",
              "    .dataframe thead th {\n",
              "        text-align: right;\n",
              "    }\n",
              "</style>\n",
              "<table border=\"1\" class=\"dataframe\">\n",
              "  <thead>\n",
              "    <tr style=\"text-align: right;\">\n",
              "      <th></th>\n",
              "      <th>0</th>\n",
              "      <th>1</th>\n",
              "      <th>2</th>\n",
              "      <th>3</th>\n",
              "      <th>4</th>\n",
              "      <th>5</th>\n",
              "      <th>6</th>\n",
              "      <th>7</th>\n",
              "      <th>8</th>\n",
              "      <th>9</th>\n",
              "    </tr>\n",
              "  </thead>\n",
              "  <tbody>\n",
              "    <tr>\n",
              "      <th>0</th>\n",
              "      <td>50</td>\n",
              "      <td>21</td>\n",
              "      <td>77</td>\n",
              "      <td>0</td>\n",
              "      <td>28</td>\n",
              "      <td>0</td>\n",
              "      <td>27</td>\n",
              "      <td>48</td>\n",
              "      <td>22</td>\n",
              "      <td>2</td>\n",
              "    </tr>\n",
              "    <tr>\n",
              "      <th>1</th>\n",
              "      <td>55</td>\n",
              "      <td>0</td>\n",
              "      <td>92</td>\n",
              "      <td>0</td>\n",
              "      <td>0</td>\n",
              "      <td>26</td>\n",
              "      <td>36</td>\n",
              "      <td>92</td>\n",
              "      <td>56</td>\n",
              "      <td>4</td>\n",
              "    </tr>\n",
              "    <tr>\n",
              "      <th>2</th>\n",
              "      <td>53</td>\n",
              "      <td>0</td>\n",
              "      <td>82</td>\n",
              "      <td>0</td>\n",
              "      <td>52</td>\n",
              "      <td>-5</td>\n",
              "      <td>29</td>\n",
              "      <td>30</td>\n",
              "      <td>2</td>\n",
              "      <td>1</td>\n",
              "    </tr>\n",
              "    <tr>\n",
              "      <th>3</th>\n",
              "      <td>37</td>\n",
              "      <td>0</td>\n",
              "      <td>76</td>\n",
              "      <td>0</td>\n",
              "      <td>28</td>\n",
              "      <td>18</td>\n",
              "      <td>40</td>\n",
              "      <td>48</td>\n",
              "      <td>8</td>\n",
              "      <td>1</td>\n",
              "    </tr>\n",
              "  </tbody>\n",
              "</table>\n",
              "</div>"
            ],
            "text/plain": [
              "    0   1   2  3   4   5   6   7   8  9\n",
              "0  50  21  77  0  28   0  27  48  22  2\n",
              "1  55   0  92  0   0  26  36  92  56  4\n",
              "2  53   0  82  0  52  -5  29  30   2  1\n",
              "3  37   0  76  0  28  18  40  48   8  1"
            ]
          },
          "metadata": {
            "tags": []
          },
          "execution_count": 19
        }
      ]
    },
    {
      "cell_type": "code",
      "metadata": {
        "id": "FSeQ1oKwGoiA",
        "colab_type": "code",
        "outputId": "fcf62d85-2127-40c2-b9d0-7191bafca779",
        "colab": {
          "base_uri": "https://localhost:8080/",
          "height": 222
        }
      },
      "source": [
        "# Let's rename the columns in training and test set\n",
        "\n",
        "cols = {}\n",
        "columns = [(c, 'variable' +str(c)) for c in data_train.columns]\n",
        "for c, variable in columns:\n",
        "    cols[c] = variable\n",
        "data_train = data_train.rename(columns=cols)\n",
        "data_train = data_train.rename(columns={'variable9' : 'target'})\n",
        "\n",
        "#for the test\n",
        "cols = {}\n",
        "columns = [(c, 'variable' +str(c)) for c in data_test.columns]\n",
        "for c, variable in columns:\n",
        "    cols[c] = variable\n",
        "data_test = data_test.rename(columns=cols)\n",
        "data_test= data_test.rename(columns={'variable9' : 'target'})\n",
        "\n",
        "# Head visualization of the test set\n",
        "data_test.head()"
      ],
      "execution_count": 0,
      "outputs": [
        {
          "output_type": "execute_result",
          "data": {
            "text/html": [
              "<div>\n",
              "<style scoped>\n",
              "    .dataframe tbody tr th:only-of-type {\n",
              "        vertical-align: middle;\n",
              "    }\n",
              "\n",
              "    .dataframe tbody tr th {\n",
              "        vertical-align: top;\n",
              "    }\n",
              "\n",
              "    .dataframe thead th {\n",
              "        text-align: right;\n",
              "    }\n",
              "</style>\n",
              "<table border=\"1\" class=\"dataframe\">\n",
              "  <thead>\n",
              "    <tr style=\"text-align: right;\">\n",
              "      <th></th>\n",
              "      <th>variable0</th>\n",
              "      <th>variable1</th>\n",
              "      <th>variable2</th>\n",
              "      <th>variable3</th>\n",
              "      <th>variable4</th>\n",
              "      <th>variable5</th>\n",
              "      <th>variable6</th>\n",
              "      <th>variable7</th>\n",
              "      <th>variable8</th>\n",
              "      <th>target</th>\n",
              "    </tr>\n",
              "  </thead>\n",
              "  <tbody>\n",
              "    <tr>\n",
              "      <th>0</th>\n",
              "      <td>55</td>\n",
              "      <td>0</td>\n",
              "      <td>81</td>\n",
              "      <td>0</td>\n",
              "      <td>-6</td>\n",
              "      <td>11</td>\n",
              "      <td>25</td>\n",
              "      <td>88</td>\n",
              "      <td>64</td>\n",
              "      <td>4</td>\n",
              "    </tr>\n",
              "    <tr>\n",
              "      <th>1</th>\n",
              "      <td>56</td>\n",
              "      <td>0</td>\n",
              "      <td>96</td>\n",
              "      <td>0</td>\n",
              "      <td>52</td>\n",
              "      <td>-4</td>\n",
              "      <td>40</td>\n",
              "      <td>44</td>\n",
              "      <td>4</td>\n",
              "      <td>4</td>\n",
              "    </tr>\n",
              "    <tr>\n",
              "      <th>2</th>\n",
              "      <td>50</td>\n",
              "      <td>-1</td>\n",
              "      <td>89</td>\n",
              "      <td>-7</td>\n",
              "      <td>50</td>\n",
              "      <td>0</td>\n",
              "      <td>39</td>\n",
              "      <td>40</td>\n",
              "      <td>2</td>\n",
              "      <td>1</td>\n",
              "    </tr>\n",
              "    <tr>\n",
              "      <th>3</th>\n",
              "      <td>53</td>\n",
              "      <td>9</td>\n",
              "      <td>79</td>\n",
              "      <td>0</td>\n",
              "      <td>42</td>\n",
              "      <td>-2</td>\n",
              "      <td>25</td>\n",
              "      <td>37</td>\n",
              "      <td>12</td>\n",
              "      <td>4</td>\n",
              "    </tr>\n",
              "    <tr>\n",
              "      <th>4</th>\n",
              "      <td>55</td>\n",
              "      <td>2</td>\n",
              "      <td>82</td>\n",
              "      <td>0</td>\n",
              "      <td>54</td>\n",
              "      <td>-6</td>\n",
              "      <td>26</td>\n",
              "      <td>28</td>\n",
              "      <td>2</td>\n",
              "      <td>1</td>\n",
              "    </tr>\n",
              "  </tbody>\n",
              "</table>\n",
              "</div>"
            ],
            "text/plain": [
              "   variable0  variable1  variable2  ...  variable7  variable8  target\n",
              "0         55          0         81  ...         88         64       4\n",
              "1         56          0         96  ...         44          4       4\n",
              "2         50         -1         89  ...         40          2       1\n",
              "3         53          9         79  ...         37         12       4\n",
              "4         55          2         82  ...         28          2       1\n",
              "\n",
              "[5 rows x 10 columns]"
            ]
          },
          "metadata": {
            "tags": []
          },
          "execution_count": 20
        }
      ]
    },
    {
      "cell_type": "code",
      "metadata": {
        "id": "xbKcfL9PGoiD",
        "colab_type": "code",
        "outputId": "8299a60d-ee50-4689-8057-6f79df29466e",
        "colab": {
          "base_uri": "https://localhost:8080/",
          "height": 314
        }
      },
      "source": [
        "# Basics summarize statistics in training set\n",
        "\n",
        "data_train.describe()\n"
      ],
      "execution_count": 0,
      "outputs": [
        {
          "output_type": "execute_result",
          "data": {
            "text/html": [
              "<div>\n",
              "<style scoped>\n",
              "    .dataframe tbody tr th:only-of-type {\n",
              "        vertical-align: middle;\n",
              "    }\n",
              "\n",
              "    .dataframe tbody tr th {\n",
              "        vertical-align: top;\n",
              "    }\n",
              "\n",
              "    .dataframe thead th {\n",
              "        text-align: right;\n",
              "    }\n",
              "</style>\n",
              "<table border=\"1\" class=\"dataframe\">\n",
              "  <thead>\n",
              "    <tr style=\"text-align: right;\">\n",
              "      <th></th>\n",
              "      <th>variable0</th>\n",
              "      <th>variable1</th>\n",
              "      <th>variable2</th>\n",
              "      <th>variable3</th>\n",
              "      <th>variable4</th>\n",
              "      <th>variable5</th>\n",
              "      <th>variable6</th>\n",
              "      <th>variable7</th>\n",
              "      <th>variable8</th>\n",
              "      <th>target</th>\n",
              "    </tr>\n",
              "  </thead>\n",
              "  <tbody>\n",
              "    <tr>\n",
              "      <th>count</th>\n",
              "      <td>43500.000000</td>\n",
              "      <td>43500.000000</td>\n",
              "      <td>43500.000000</td>\n",
              "      <td>43500.000000</td>\n",
              "      <td>43500.000000</td>\n",
              "      <td>43500.000000</td>\n",
              "      <td>43500.000000</td>\n",
              "      <td>43500.000000</td>\n",
              "      <td>43500.000000</td>\n",
              "      <td>43500.000000</td>\n",
              "    </tr>\n",
              "    <tr>\n",
              "      <th>mean</th>\n",
              "      <td>48.249747</td>\n",
              "      <td>-0.205126</td>\n",
              "      <td>85.341563</td>\n",
              "      <td>0.262736</td>\n",
              "      <td>34.528782</td>\n",
              "      <td>1.298276</td>\n",
              "      <td>37.074552</td>\n",
              "      <td>50.899862</td>\n",
              "      <td>13.964598</td>\n",
              "      <td>1.700529</td>\n",
              "    </tr>\n",
              "    <tr>\n",
              "      <th>std</th>\n",
              "      <td>12.252618</td>\n",
              "      <td>78.142770</td>\n",
              "      <td>8.908602</td>\n",
              "      <td>41.004131</td>\n",
              "      <td>21.703409</td>\n",
              "      <td>179.486760</td>\n",
              "      <td>13.135557</td>\n",
              "      <td>21.463250</td>\n",
              "      <td>25.648404</td>\n",
              "      <td>1.354648</td>\n",
              "    </tr>\n",
              "    <tr>\n",
              "      <th>min</th>\n",
              "      <td>27.000000</td>\n",
              "      <td>-4821.000000</td>\n",
              "      <td>21.000000</td>\n",
              "      <td>-3939.000000</td>\n",
              "      <td>-188.000000</td>\n",
              "      <td>-13839.000000</td>\n",
              "      <td>-48.000000</td>\n",
              "      <td>-353.000000</td>\n",
              "      <td>-356.000000</td>\n",
              "      <td>1.000000</td>\n",
              "    </tr>\n",
              "    <tr>\n",
              "      <th>25%</th>\n",
              "      <td>38.000000</td>\n",
              "      <td>0.000000</td>\n",
              "      <td>79.000000</td>\n",
              "      <td>0.000000</td>\n",
              "      <td>26.000000</td>\n",
              "      <td>-5.000000</td>\n",
              "      <td>31.000000</td>\n",
              "      <td>37.000000</td>\n",
              "      <td>0.000000</td>\n",
              "      <td>1.000000</td>\n",
              "    </tr>\n",
              "    <tr>\n",
              "      <th>50%</th>\n",
              "      <td>45.000000</td>\n",
              "      <td>0.000000</td>\n",
              "      <td>83.000000</td>\n",
              "      <td>0.000000</td>\n",
              "      <td>42.000000</td>\n",
              "      <td>0.000000</td>\n",
              "      <td>39.000000</td>\n",
              "      <td>44.000000</td>\n",
              "      <td>2.000000</td>\n",
              "      <td>1.000000</td>\n",
              "    </tr>\n",
              "    <tr>\n",
              "      <th>75%</th>\n",
              "      <td>55.000000</td>\n",
              "      <td>0.000000</td>\n",
              "      <td>89.000000</td>\n",
              "      <td>0.000000</td>\n",
              "      <td>46.000000</td>\n",
              "      <td>5.000000</td>\n",
              "      <td>42.000000</td>\n",
              "      <td>60.000000</td>\n",
              "      <td>14.000000</td>\n",
              "      <td>1.000000</td>\n",
              "    </tr>\n",
              "    <tr>\n",
              "      <th>max</th>\n",
              "      <td>126.000000</td>\n",
              "      <td>5075.000000</td>\n",
              "      <td>149.000000</td>\n",
              "      <td>3830.000000</td>\n",
              "      <td>436.000000</td>\n",
              "      <td>13148.000000</td>\n",
              "      <td>105.000000</td>\n",
              "      <td>270.000000</td>\n",
              "      <td>266.000000</td>\n",
              "      <td>7.000000</td>\n",
              "    </tr>\n",
              "  </tbody>\n",
              "</table>\n",
              "</div>"
            ],
            "text/plain": [
              "          variable0     variable1  ...     variable8        target\n",
              "count  43500.000000  43500.000000  ...  43500.000000  43500.000000\n",
              "mean      48.249747     -0.205126  ...     13.964598      1.700529\n",
              "std       12.252618     78.142770  ...     25.648404      1.354648\n",
              "min       27.000000  -4821.000000  ...   -356.000000      1.000000\n",
              "25%       38.000000      0.000000  ...      0.000000      1.000000\n",
              "50%       45.000000      0.000000  ...      2.000000      1.000000\n",
              "75%       55.000000      0.000000  ...     14.000000      1.000000\n",
              "max      126.000000   5075.000000  ...    266.000000      7.000000\n",
              "\n",
              "[8 rows x 10 columns]"
            ]
          },
          "metadata": {
            "tags": []
          },
          "execution_count": 5
        }
      ]
    },
    {
      "cell_type": "code",
      "metadata": {
        "id": "xyjSBpVYjgNI",
        "colab_type": "code",
        "outputId": "b2941439-164a-44ba-bf54-b567fdb34595",
        "colab": {
          "base_uri": "https://localhost:8080/",
          "height": 156
        }
      },
      "source": [
        "# Proportion over class\n",
        "count = data_train['target'].value_counts()\n",
        "prop = count / sum(count)\n",
        "prop"
      ],
      "execution_count": 0,
      "outputs": [
        {
          "output_type": "execute_result",
          "data": {
            "text/plain": [
              "1    0.784092\n",
              "4    0.155126\n",
              "5    0.056506\n",
              "3    0.003034\n",
              "2    0.000851\n",
              "7    0.000253\n",
              "6    0.000138\n",
              "Name: target, dtype: float64"
            ]
          },
          "metadata": {
            "tags": []
          },
          "execution_count": 17
        }
      ]
    },
    {
      "cell_type": "markdown",
      "metadata": {
        "id": "v4-lriDcGoiL",
        "colab_type": "text"
      },
      "source": [
        "## Target distribution"
      ]
    },
    {
      "cell_type": "code",
      "metadata": {
        "id": "W36e5A_hGoiL",
        "colab_type": "code",
        "outputId": "494b539a-b49b-4829-ec88-ca9fea64f218",
        "colab": {
          "base_uri": "https://localhost:8080/",
          "height": 156
        }
      },
      "source": [
        "# Statistics of target attribute\n",
        "\n",
        "data_train['target'].value_counts()"
      ],
      "execution_count": 0,
      "outputs": [
        {
          "output_type": "execute_result",
          "data": {
            "text/plain": [
              "1    34108\n",
              "4     6748\n",
              "5     2458\n",
              "3      132\n",
              "2       37\n",
              "7       11\n",
              "6        6\n",
              "Name: target, dtype: int64"
            ]
          },
          "metadata": {
            "tags": []
          },
          "execution_count": 21
        }
      ]
    },
    {
      "cell_type": "code",
      "metadata": {
        "id": "dJFvaE4WGoiQ",
        "colab_type": "code",
        "outputId": "9b2db116-20a2-4515-904d-9791355958b4",
        "colab": {
          "base_uri": "https://localhost:8080/",
          "height": 35
        }
      },
      "source": [
        "# To check for missing values in training data\n",
        "data_train.isnull().values.any()"
      ],
      "execution_count": 0,
      "outputs": [
        {
          "output_type": "execute_result",
          "data": {
            "text/plain": [
              "False"
            ]
          },
          "metadata": {
            "tags": []
          },
          "execution_count": 22
        }
      ]
    },
    {
      "cell_type": "code",
      "metadata": {
        "id": "784h-E-gGoiT",
        "colab_type": "code",
        "outputId": "cbf43675-714d-423b-c2f0-75bc95fd9ac8",
        "colab": {
          "base_uri": "https://localhost:8080/",
          "height": 35
        }
      },
      "source": [
        "# To check for missing values in the test data\n",
        "data_test.isnull().values.any()"
      ],
      "execution_count": 0,
      "outputs": [
        {
          "output_type": "execute_result",
          "data": {
            "text/plain": [
              "False"
            ]
          },
          "metadata": {
            "tags": []
          },
          "execution_count": 23
        }
      ]
    },
    {
      "cell_type": "markdown",
      "metadata": {
        "id": "1-HSkK9wGoiW",
        "colab_type": "text"
      },
      "source": [
        "### There is no missing values neither in training data nor in the test data"
      ]
    },
    {
      "cell_type": "markdown",
      "metadata": {
        "id": "tuHlEW-vGoiX",
        "colab_type": "text"
      },
      "source": [
        "## Let's plot the histogram for a better understanding"
      ]
    },
    {
      "cell_type": "code",
      "metadata": {
        "id": "7ZFan3ZzGoiY",
        "colab_type": "code",
        "outputId": "5910e7da-4d2b-40b9-86a2-5241b381a9a1",
        "colab": {
          "base_uri": "https://localhost:8080/",
          "height": 582
        }
      },
      "source": [
        "# class repartition in training data\n",
        "\n",
        "plt.rcParams['figure.figsize'] = [11, 9]\n",
        "plt.rcParams.update({'font.size':20})\n",
        "fontdict = {'fontsize':18,\n",
        "           'weight': 'bold'}\n",
        "palette = palette = ['green', 'orange', 'brown', 'blue', 'red', 'black', 'yellow']\n",
        "sns.set()\n",
        "\n",
        "distribution = data_train.iloc[:, -1].value_counts()\n",
        "\n",
        "plt.bar(distribution.index, distribution)\n",
        "plt.title('Target distribution', fontdict=fontdict)\n",
        "plt.ylabel(' Proportion of each Class', fontdict=fontdict)\n",
        "plt.xlabel('Classes', fontdict=fontdict)\n",
        "\n",
        "# to plot values\n",
        "for i in distribution.index:\n",
        "    plt.text(i-0.2, distribution[i], distribution[i], fontdict=fontdict)"
      ],
      "execution_count": 0,
      "outputs": [
        {
          "output_type": "display_data",
          "data": {
            "image/png": "[encoded data removed]",
            "text/plain": [
              "<Figure size 792x648 with 1 Axes>"
            ]
          },
          "metadata": {
            "tags": []
          }
        }
      ]
    },
    {
      "cell_type": "markdown",
      "metadata": {
        "id": "60yv1PNlGoib",
        "colab_type": "text"
      },
      "source": [
        "### As we can see, the classes 2, 3, 6 and 7 contain less than 1% of the data. The dataset is very imbalanced. So let's try some balance techniques.\n"
      ]
    },
    {
      "cell_type": "markdown",
      "metadata": {
        "id": "Q5ns1mtFGohw",
        "colab_type": "text"
      },
      "source": [
        "## Preprocessing"
      ]
    },
    {
      "cell_type": "markdown",
      "metadata": {
        "id": "esGbzPr1Goib",
        "colab_type": "text"
      },
      "source": [
        "## Imbalance data preprocessing\n",
        "* Here we remove the classes that have small proportion of number in the dataset."
      ]
    },
    {
      "cell_type": "code",
      "metadata": {
        "id": "5uPhqHC-Goic",
        "colab_type": "code",
        "outputId": "1893d682-2edb-4ac2-dfd8-1641cc50c8ec",
        "colab": {
          "base_uri": "https://localhost:8080/",
          "height": 87
        }
      },
      "source": [
        "# for the training data\n",
        "\n",
        "z = data_train.target\n",
        "data_train_modified = data_train.drop(np.where(z == 6 )[0], axis=0)\n",
        "data_train_modified = data_train_modified.drop(np.where(z == 7 )[0], axis=0)\n",
        "data_train_modified = data_train_modified.drop(np.where(z == 2 )[0], axis=0)\n",
        "data_train_modified = data_train_modified.drop(np.where(z == 3 )[0], axis=0)\n",
        "\n",
        "\n",
        "data_train_modified['target'].value_counts()\n",
        "\n"
      ],
      "execution_count": 0,
      "outputs": [
        {
          "output_type": "execute_result",
          "data": {
            "text/plain": [
              "1    34108\n",
              "4     6748\n",
              "5     2458\n",
              "Name: target, dtype: int64"
            ]
          },
          "metadata": {
            "tags": []
          },
          "execution_count": 25
        }
      ]
    },
    {
      "cell_type": "code",
      "metadata": {
        "id": "S7F-HfvoGoig",
        "colab_type": "code",
        "outputId": "d86b223b-2dfd-44d8-d6f9-0944eea7ab2f",
        "colab": {
          "base_uri": "https://localhost:8080/",
          "height": 87
        }
      },
      "source": [
        "# preprocessing for the test data\n",
        "\n",
        "z = data_test.target\n",
        "data_test_modified = data_test.drop(np.where(z == 6 )[0], axis=0)\n",
        "data_test_modified = data_test_modified.drop(np.where(z == 7 )[0], axis=0)\n",
        "data_test_modified = data_test_modified.drop(np.where(z == 2 )[0], axis=0)\n",
        "data_test_modified = data_test_modified.drop(np.where(z == 3 )[0], axis=0)\n",
        "\n",
        "\n",
        "data_test_modified['target'].value_counts()\n"
      ],
      "execution_count": 0,
      "outputs": [
        {
          "output_type": "execute_result",
          "data": {
            "text/plain": [
              "1    11478\n",
              "4     2155\n",
              "5      809\n",
              "Name: target, dtype: int64"
            ]
          },
          "metadata": {
            "tags": []
          },
          "execution_count": 26
        }
      ]
    },
    {
      "cell_type": "code",
      "metadata": {
        "id": "OtwNJ0EOGoil",
        "colab_type": "code",
        "colab": {}
      },
      "source": [
        "# Extraction of features and target from the training dataset\n",
        "\n",
        "x_train, y_train = data_train_modified.iloc[:,:-1], data_train_modified.iloc[:, -1]"
      ],
      "execution_count": 0,
      "outputs": []
    },
    {
      "cell_type": "code",
      "metadata": {
        "id": "q6i9PqVqGoio",
        "colab_type": "code",
        "colab": {}
      },
      "source": [
        "# Extraction of features and target from the test dataset\n",
        "\n",
        "\n",
        "x_test, y_test = data_test_modified.iloc[:,:-1], data_test_modified.iloc[:, -1]"
      ],
      "execution_count": 0,
      "outputs": []
    },
    {
      "cell_type": "markdown",
      "metadata": {
        "id": "0LUgAA7gGoir",
        "colab_type": "text"
      },
      "source": [
        "## Scatter plot visualization \n",
        "* Since the variable0 is refered as being the time, let's plot the scatter plot of each variable with respect to variable0."
      ]
    },
    {
      "cell_type": "code",
      "metadata": {
        "id": "-gR8UKPmGoit",
        "colab_type": "code",
        "outputId": "3b63fa9b-5cba-44b4-81d0-fb74e0efb229",
        "colab": {
          "base_uri": "https://localhost:8080/",
          "height": 561
        }
      },
      "source": [
        "# Let's start with variable1\n",
        "\n",
        "plt.scatter(data_train_modified['variable0'], data_train_modified['variable1'])\n",
        "plt.ylim(-20, 20)"
      ],
      "execution_count": 0,
      "outputs": [
        {
          "output_type": "execute_result",
          "data": {
            "text/plain": [
              "(-20.0, 20.0)"
            ]
          },
          "metadata": {
            "tags": []
          },
          "execution_count": 29
        },
        {
          "output_type": "display_data",
          "data": {
            "image/png": "[encoded data removed]",
            "text/plain": [
              "<Figure size 792x648 with 1 Axes>"
            ]
          },
          "metadata": {
            "tags": []
          }
        }
      ]
    },
    {
      "cell_type": "code",
      "metadata": {
        "id": "amK448LhGoiy",
        "colab_type": "code",
        "outputId": "3fb1156d-c3f5-4ad7-e89b-e55b78da9d7e",
        "colab": {
          "base_uri": "https://localhost:8080/",
          "height": 557
        }
      },
      "source": [
        "# Let's follow with the variable2\n",
        "\n",
        "plt.scatter(data_train_modified['variable0'], data_train_modified['variable2'])\n",
        "#plt.ylim(-20, 20)"
      ],
      "execution_count": 0,
      "outputs": [
        {
          "output_type": "execute_result",
          "data": {
            "text/plain": [
              "<matplotlib.collections.PathCollection at 0x7f0370d5f5c0>"
            ]
          },
          "metadata": {
            "tags": []
          },
          "execution_count": 30
        },
        {
          "output_type": "display_data",
          "data": {
            "image/png": "[encoded data removed]",
            "text/plain": [
              "<Figure size 792x648 with 1 Axes>"
            ]
          },
          "metadata": {
            "tags": []
          }
        }
      ]
    },
    {
      "cell_type": "code",
      "metadata": {
        "id": "12WBFPZ9Goi1",
        "colab_type": "code",
        "outputId": "bbf0cade-7698-4916-bf91-b539daab680f",
        "colab": {
          "base_uri": "https://localhost:8080/",
          "height": 561
        }
      },
      "source": [
        "# Same for the variable3\n",
        "\n",
        "plt.scatter(data_train_modified['variable0'], data_train_modified['variable3'])\n",
        "plt.ylim(-20, 20)"
      ],
      "execution_count": 0,
      "outputs": [
        {
          "output_type": "execute_result",
          "data": {
            "text/plain": [
              "(-20.0, 20.0)"
            ]
          },
          "metadata": {
            "tags": []
          },
          "execution_count": 31
        },
        {
          "output_type": "display_data",
          "data": {
            "image/png": "[encoded data removed]",
            "text/plain": [
              "<Figure size 792x648 with 1 Axes>"
            ]
          },
          "metadata": {
            "tags": []
          }
        }
      ]
    },
    {
      "cell_type": "code",
      "metadata": {
        "id": "bP29DGKlGoi4",
        "colab_type": "code",
        "outputId": "5bd662db-1ba2-4a42-8c46-c20c3f1454fc",
        "colab": {
          "base_uri": "https://localhost:8080/",
          "height": 557
        }
      },
      "source": [
        "# For the variable4\n",
        "\n",
        "plt.scatter(data_train_modified['variable0'], data_train_modified['variable4'])\n",
        "#plt.ylim(-20, 20)"
      ],
      "execution_count": 0,
      "outputs": [
        {
          "output_type": "execute_result",
          "data": {
            "text/plain": [
              "<matplotlib.collections.PathCollection at 0x7f0370c90f98>"
            ]
          },
          "metadata": {
            "tags": []
          },
          "execution_count": 32
        },
        {
          "output_type": "display_data",
          "data": {
            "image/png": "[encoded data removed]",
            "text/plain": [
              "<Figure size 792x648 with 1 Axes>"
            ]
          },
          "metadata": {
            "tags": []
          }
        }
      ]
    },
    {
      "cell_type": "code",
      "metadata": {
        "id": "ZJ4iY3cFGoi7",
        "colab_type": "code",
        "outputId": "e64d647d-f923-4ea3-e271-388aebda6a9d",
        "colab": {
          "base_uri": "https://localhost:8080/",
          "height": 561
        }
      },
      "source": [
        "# The same for variable5\n",
        "\n",
        "plt.scatter(data_train_modified['variable0'], data_train_modified['variable5'])\n",
        "plt.ylim(-40, 40)"
      ],
      "execution_count": 0,
      "outputs": [
        {
          "output_type": "execute_result",
          "data": {
            "text/plain": [
              "(-40.0, 40.0)"
            ]
          },
          "metadata": {
            "tags": []
          },
          "execution_count": 33
        },
        {
          "output_type": "display_data",
          "data": {
            "image/png": "[encoded data removed]",
            "text/plain": [
              "<Figure size 792x648 with 1 Axes>"
            ]
          },
          "metadata": {
            "tags": []
          }
        }
      ]
    },
    {
      "cell_type": "code",
      "metadata": {
        "id": "315sHVJ5Goi9",
        "colab_type": "code",
        "outputId": "1c086ce5-af8d-4863-ada3-bdae0b41c8d3",
        "colab": {
          "base_uri": "https://localhost:8080/",
          "height": 557
        }
      },
      "source": [
        "# Same for variable6\n",
        "\n",
        "plt.scatter(data_train_modified['variable0'], data_train_modified['variable6'])\n",
        "#plt.ylim(-20, 20)"
      ],
      "execution_count": 0,
      "outputs": [
        {
          "output_type": "execute_result",
          "data": {
            "text/plain": [
              "<matplotlib.collections.PathCollection at 0x7f0370bc79b0>"
            ]
          },
          "metadata": {
            "tags": []
          },
          "execution_count": 34
        },
        {
          "output_type": "display_data",
          "data": {
            "image/png": "[encoded data removed]",
            "text/plain": [
              "<Figure size 792x648 with 1 Axes>"
            ]
          },
          "metadata": {
            "tags": []
          }
        }
      ]
    },
    {
      "cell_type": "code",
      "metadata": {
        "id": "4Tj495jMGojB",
        "colab_type": "code",
        "outputId": "e61d229c-26d9-411b-e0bd-a36c858e2e48",
        "colab": {
          "base_uri": "https://localhost:8080/",
          "height": 561
        }
      },
      "source": [
        "# same for variable7\n",
        "\n",
        "plt.scatter(data_train_modified['variable0'], data_train_modified['variable7'])\n",
        "#plt.ylim(-20, 20)"
      ],
      "execution_count": 0,
      "outputs": [
        {
          "output_type": "execute_result",
          "data": {
            "text/plain": [
              "<matplotlib.collections.PathCollection at 0x7f0370ae5b70>"
            ]
          },
          "metadata": {
            "tags": []
          },
          "execution_count": 37
        },
        {
          "output_type": "display_data",
          "data": {
            "image/png": "[encoded data removed]",
            "text/plain": [
              "<Figure size 792x648 with 1 Axes>"
            ]
          },
          "metadata": {
            "tags": []
          }
        }
      ]
    },
    {
      "cell_type": "markdown",
      "metadata": {
        "id": "W99Osa_-GojE",
        "colab_type": "text"
      },
      "source": [
        "## outliers\n",
        "* Based on the scatter plot, we can see that there is a lot of outliers. Let's remove them from the dataset."
      ]
    },
    {
      "cell_type": "markdown",
      "metadata": {
        "id": "zpkTHNmsGojF",
        "colab_type": "text"
      },
      "source": [
        "## for training data"
      ]
    },
    {
      "cell_type": "code",
      "metadata": {
        "id": "heshwdMyGojF",
        "colab_type": "code",
        "colab": {}
      },
      "source": [
        "# To remove outliers in variable3\n",
        "\n",
        "z = np.abs(stats.zscore(data_train_modified[['variable3']]))\n",
        "threshold3 = 8 # this value is choosed based on the scatter plot\n",
        "\n",
        "data_train_modified = data_train_modified.drop(np.where(z > threshold3)[0], axis=0)\n",
        "data_train_modified = data_train_modified.drop(np.where(z < -threshold3)[0], axis=0)"
      ],
      "execution_count": 0,
      "outputs": []
    },
    {
      "cell_type": "code",
      "metadata": {
        "id": "j5HGU6h2GojJ",
        "colab_type": "code",
        "colab": {}
      },
      "source": [
        "# To remove outliers in variable1\n",
        "\n",
        "\n",
        "z = np.abs(stats.zscore(data_train_modified[['variable1']]))\n",
        "threshold1 = 3 # this value is choosed based on the scatter plot\n",
        "\n",
        "data_train_modified = data_train_modified.drop(np.where(z > threshold1)[0], axis=0)\n",
        "data_train_modified = data_train_modified.drop(np.where(z < -threshold1)[0], axis=0)"
      ],
      "execution_count": 0,
      "outputs": []
    },
    {
      "cell_type": "code",
      "metadata": {
        "id": "pbuXHEGwGojN",
        "colab_type": "code",
        "colab": {}
      },
      "source": [
        "# To remove outliers in variable4\n",
        "\n",
        "\n",
        "z = np.abs(stats.zscore(data_train_modified[['variable4']]))\n",
        "threshold4 = 100 # this value is choosed based on the scatter plot\n",
        "\n",
        "data_train_modified = data_train_modified.drop(np.where(z > threshold4)[0], axis=0)\n",
        "data_train_modified = data_train_modified.drop(np.where(z < -threshold4)[0], axis=0)"
      ],
      "execution_count": 0,
      "outputs": []
    },
    {
      "cell_type": "code",
      "metadata": {
        "id": "74NqkEqUGojQ",
        "colab_type": "code",
        "colab": {}
      },
      "source": [
        "# To remove outliers in variable5\n",
        "\n",
        "\n",
        "z = np.abs(stats.zscore(data_train_modified[['variable5']]))\n",
        "threshold5 = 30 # this value is choosed based on the scatter plot\n",
        "\n",
        "data_train_modified = data_train_modified.drop(np.where(z > threshold5)[0], axis=0)\n",
        "data_train_modified = data_train_modified.drop(np.where(z < -threshold5)[0], axis=0)"
      ],
      "execution_count": 0,
      "outputs": []
    },
    {
      "cell_type": "code",
      "metadata": {
        "id": "L2gcENXFGojT",
        "colab_type": "code",
        "colab": {}
      },
      "source": [
        "# To remove outliers in variable7\n",
        "\n",
        "\n",
        "z = np.abs(stats.zscore(data_train_modified[['variable7']]))\n",
        "threshold7 = 200 # this value is choosed based on the scatter plot\n",
        "\n",
        "data_train_modified = data_train_modified.drop(np.where(z > threshold7)[0], axis=0)\n",
        "data_train_modified = data_train_modified.drop(np.where(z < -threshold7)[0], axis=0)"
      ],
      "execution_count": 0,
      "outputs": []
    },
    {
      "cell_type": "markdown",
      "metadata": {
        "id": "jcu-wUjDGojV",
        "colab_type": "text"
      },
      "source": [
        "## Let's also remove outliers in the test set"
      ]
    },
    {
      "cell_type": "code",
      "metadata": {
        "id": "-fA08a4hGojW",
        "colab_type": "code",
        "colab": {}
      },
      "source": [
        "# To remove outliers in variable3\n",
        "\n",
        "\n",
        "z = np.abs(stats.zscore(data_test_modified[['variable3']]))\n",
        "threshold3 = 8 # this value is choosed based on the scatter plot\n",
        "\n",
        "data_test_modified = data_test_modified.drop(np.where(z > threshold3)[0], axis=0)\n",
        "data_test_modified = data_test_modified.drop(np.where(z < -threshold3)[0], axis=0)"
      ],
      "execution_count": 0,
      "outputs": []
    },
    {
      "cell_type": "code",
      "metadata": {
        "id": "Z2iJ2Tt9GojY",
        "colab_type": "code",
        "colab": {}
      },
      "source": [
        "# To remove outliers in variable1\n",
        "\n",
        "\n",
        "z = np.abs(stats.zscore(data_test_modified[['variable1']]))\n",
        "threshold1 = 3 # this value is choosed based on the scatter plot\n",
        "\n",
        "data_test_modified = data_test_modified.drop(np.where(z > threshold1)[0], axis=0)\n",
        "data_test_modified = data_test_modified.drop(np.where(z < -threshold1)[0], axis=0)"
      ],
      "execution_count": 0,
      "outputs": []
    },
    {
      "cell_type": "code",
      "metadata": {
        "id": "kHRdaBUuGojb",
        "colab_type": "code",
        "colab": {}
      },
      "source": [
        "# To remove outliers in variable4\n",
        "\n",
        "\n",
        "z = np.abs(stats.zscore(data_test_modified[['variable4']]))\n",
        "threshold4 = 100 # this value is choosed based on the scatter plot\n",
        "\n",
        "data_test_modified = data_test_modified.drop(np.where(z > threshold4)[0], axis=0)\n",
        "data_test_modified = data_test_modified.drop(np.where(z < -threshold4)[0], axis=0)"
      ],
      "execution_count": 0,
      "outputs": []
    },
    {
      "cell_type": "code",
      "metadata": {
        "id": "5pwj7Ki0Gojd",
        "colab_type": "code",
        "colab": {}
      },
      "source": [
        "# To remove outliers in variable5\n",
        "\n",
        "\n",
        "z = np.abs(stats.zscore(data_test_modified[['variable5']]))\n",
        "threshold5 = 30 # this value is choosed based on the scatter plot\n",
        "\n",
        "data_test_modified = data_test_modified.drop(np.where(z > threshold5)[0], axis=0)\n",
        "data_test_modified = data_test_modified.drop(np.where(z < -threshold5)[0], axis=0)"
      ],
      "execution_count": 0,
      "outputs": []
    },
    {
      "cell_type": "code",
      "metadata": {
        "id": "uHN4lkEQGojf",
        "colab_type": "code",
        "colab": {}
      },
      "source": [
        "# To remove outliers in variable7\n",
        "\n",
        "\n",
        "z = np.abs(stats.zscore(data_test_modified[['variable7']]))\n",
        "threshold7 = 200 # this value is choosed based on the scatter plot\n",
        "\n",
        "data_test_modified = data_test_modified.drop(np.where(z > threshold7)[0], axis=0)\n",
        "data_test_modified = data_test_modified.drop(np.where(z < -threshold7)[0], axis=0)"
      ],
      "execution_count": 0,
      "outputs": []
    },
    {
      "cell_type": "markdown",
      "metadata": {
        "id": "v1ywPBbuGojh",
        "colab_type": "text"
      },
      "source": [
        "## To extract the features and target from the modified training and test dataset"
      ]
    },
    {
      "cell_type": "code",
      "metadata": {
        "id": "pgKQWFWuGojj",
        "colab_type": "code",
        "outputId": "f230bd70-d9df-45db-c8fd-bc364cc86258",
        "colab": {
          "base_uri": "https://localhost:8080/",
          "height": 35
        }
      },
      "source": [
        "x_train, y_train = data_train_modified.iloc[:,:-1], data_train_modified.iloc[:, -1]\n",
        "x_test, y_test = data_test_modified.iloc[:,:-1], data_test_modified.iloc[:, -1]\n",
        "\n",
        "\n",
        "# To check for the shape\n",
        "x_train.shape, x_test.shape"
      ],
      "execution_count": 0,
      "outputs": [
        {
          "output_type": "execute_result",
          "data": {
            "text/plain": [
              "((43253, 9), (14420, 9))"
            ]
          },
          "metadata": {
            "tags": []
          },
          "execution_count": 48
        }
      ]
    },
    {
      "cell_type": "markdown",
      "metadata": {
        "id": "cXXC-oVlGojn",
        "colab_type": "text"
      },
      "source": [
        "## Let's standardize the data"
      ]
    },
    {
      "cell_type": "code",
      "metadata": {
        "id": "yv6uUxvqGojn",
        "colab_type": "code",
        "colab": {}
      },
      "source": [
        "# convert x_train and x_test to float\n",
        "x_train = x_train.values.astype('float')\n",
        "x_test = x_test.values.astype('float')"
      ],
      "execution_count": 0,
      "outputs": []
    },
    {
      "cell_type": "markdown",
      "metadata": {
        "id": "r6KPoxz9Gojq",
        "colab_type": "text"
      },
      "source": [
        "## Resampling techniques\n",
        "* We are performing the random over-sampling method for the minority classes by picking samples at random with replacement."
      ]
    },
    {
      "cell_type": "code",
      "metadata": {
        "id": "JR5bgNd2Gojr",
        "colab_type": "code",
        "outputId": "f3527f1f-a8ee-4be3-abbc-ba91c346311f",
        "colab": {
          "base_uri": "https://localhost:8080/",
          "height": 72
        }
      },
      "source": [
        "# Oversampling method\n",
        "\n",
        "ros = RandomOverSampler(random_state=42)\n",
        "x_train, y_train = ros.fit_resample(x_train, y_train)"
      ],
      "execution_count": 0,
      "outputs": [
        {
          "output_type": "stream",
          "text": [
            "/usr/local/lib/python3.6/dist-packages/sklearn/utils/deprecation.py:87: FutureWarning: Function safe_indexing is deprecated; safe_indexing is deprecated in version 0.22 and will be removed in version 0.24.\n",
            "  warnings.warn(msg, category=FutureWarning)\n"
          ],
          "name": "stderr"
        }
      ]
    },
    {
      "cell_type": "code",
      "metadata": {
        "id": "M9cBAtMyGojt",
        "colab_type": "code",
        "colab": {}
      },
      "source": [
        "# Data standardization\n",
        "\n",
        "rb_scaler = StandardScaler()\n",
        "x_train_std = rb_scaler.fit_transform(x_train)\n",
        "x_test = rb_scaler.transform(x_test)"
      ],
      "execution_count": 0,
      "outputs": []
    },
    {
      "cell_type": "code",
      "metadata": {
        "id": "10069AQVGojw",
        "colab_type": "code",
        "outputId": "d16fa483-cd58-43ec-9fbe-4346af21704e",
        "colab": {
          "base_uri": "https://localhost:8080/",
          "height": 104
        }
      },
      "source": [
        "# To visualize the dimensions of training and test sets\n",
        "\n",
        "print(\"\\n The dimensions of training and test sets are the following:\")\n",
        "print(\"X_train = {0}, y_train = {1}, X_test = {2} and y_test = {3}\\n\\n\".format(x_train_std.shape, y_train.shape, x_test.shape, y_test.shape))\n"
      ],
      "execution_count": 0,
      "outputs": [
        {
          "output_type": "stream",
          "text": [
            "\n",
            " The dimensions of training and test sets are the following:\n",
            "X_train = (102168, 9), y_train = (102168,), X_test = (14420, 9) and y_test = (14420,)\n",
            "\n",
            "\n"
          ],
          "name": "stdout"
        }
      ]
    },
    {
      "cell_type": "markdown",
      "metadata": {
        "id": "wMvnEVhWGoj1",
        "colab_type": "text"
      },
      "source": [
        "## To build the three classifiers\n",
        "* We will start with the Logistic Regression (LR), then The K neirest neighboors (KNN) and finally we will build the Support Vector Machine classifier (SVM)."
      ]
    },
    {
      "cell_type": "code",
      "metadata": {
        "id": "2NSAsIFWGoj2",
        "colab_type": "code",
        "colab": {}
      },
      "source": [
        "test_time = list()\n",
        "train_time = list()\n",
        "accuracy = list()"
      ],
      "execution_count": 0,
      "outputs": []
    },
    {
      "cell_type": "markdown",
      "metadata": {
        "id": "jrNv1T96Goj5",
        "colab_type": "text"
      },
      "source": [
        "## Logistic regression "
      ]
    },
    {
      "cell_type": "code",
      "metadata": {
        "id": "nEfzcI4rp2gT",
        "colab_type": "code",
        "outputId": "fa2ffd29-87ac-4e03-8993-500bb45e1533",
        "colab": {
          "base_uri": "https://localhost:8080/",
          "height": 104
        }
      },
      "source": [
        "# Let's build the logistic regression model\n",
        "\n",
        "lr_clf = LogisticRegression(C=10, random_state=0)\n",
        "lr_clf"
      ],
      "execution_count": 0,
      "outputs": [
        {
          "output_type": "execute_result",
          "data": {
            "text/plain": [
              "LogisticRegression(C=10, class_weight=None, dual=False, fit_intercept=True,\n",
              "                   intercept_scaling=1, l1_ratio=None, max_iter=100,\n",
              "                   multi_class='auto', n_jobs=None, penalty='l2',\n",
              "                   random_state=0, solver='lbfgs', tol=0.0001, verbose=0,\n",
              "                   warm_start=False)"
            ]
          },
          "metadata": {
            "tags": []
          },
          "execution_count": 71
        }
      ]
    },
    {
      "cell_type": "code",
      "metadata": {
        "id": "1ctdic_FGoj6",
        "colab_type": "code",
        "outputId": "013dfe65-573e-4c78-ae56-510ae9c67755",
        "colab": {
          "base_uri": "https://localhost:8080/",
          "height": 228
        }
      },
      "source": [
        "\n",
        "start = timer()\n",
        "\n",
        "lr_clf.fit(x_train_std, y_train )\n",
        "end = timer()\n",
        "lr_train_time = end - start\n",
        "train_time.append(lr_train_time)\n",
        "print(f'\\n The training time for LR is {round(lr_train_time,3)} \\n')"
      ],
      "execution_count": 0,
      "outputs": [
        {
          "output_type": "stream",
          "text": [
            "\n",
            " The training time for LR is 5.432 seconds\n",
            "\n"
          ],
          "name": "stdout"
        },
        {
          "output_type": "stream",
          "text": [
            "/usr/local/lib/python3.6/dist-packages/sklearn/linear_model/_logistic.py:940: ConvergenceWarning: lbfgs failed to converge (status=1):\n",
            "STOP: TOTAL NO. of ITERATIONS REACHED LIMIT.\n",
            "\n",
            "Increase the number of iterations (max_iter) or scale the data as shown in:\n",
            "    https://scikit-learn.org/stable/modules/preprocessing.html\n",
            "Please also refer to the documentation for alternative solver options:\n",
            "    https://scikit-learn.org/stable/modules/linear_model.html#logistic-regression\n",
            "  extra_warning_msg=_LOGISTIC_SOLVER_CONVERGENCE_MSG)\n"
          ],
          "name": "stderr"
        }
      ]
    },
    {
      "cell_type": "code",
      "metadata": {
        "id": "8RmYLRruGoj9",
        "colab_type": "code",
        "outputId": "84477bd6-91d3-424b-cd4f-d51482a4676c",
        "colab": {
          "base_uri": "https://localhost:8080/",
          "height": 69
        }
      },
      "source": [
        "# Let's do the prediction of the Logistic regression model\n",
        "\n",
        "start = timer()\n",
        "\n",
        "y_pred = lr_clf.predict(x_test)\n",
        "end = timer()\n",
        "lr_test_time = end - start\n",
        "\n",
        "test_time.append(lr_test_time)\n",
        "print(f'\\n The testing time for LR is {round(lr_test_time,3)} \\n')"
      ],
      "execution_count": 0,
      "outputs": [
        {
          "output_type": "stream",
          "text": [
            "\n",
            " The testing time for LR is 0.003 seconds\n",
            "\n"
          ],
          "name": "stdout"
        }
      ]
    },
    {
      "cell_type": "code",
      "metadata": {
        "id": "XFUm6D3RGokB",
        "colab_type": "code",
        "outputId": "ef791ccb-c163-4bcc-a7cc-9e03186b6d9b",
        "colab": {
          "base_uri": "https://localhost:8080/",
          "height": 69
        }
      },
      "source": [
        "# Let's compute the accuracy for the Logistic Regression model\n",
        "\n",
        "acc1 = accuracy_score(y_test, y_pred)\n",
        "accuracy.append(acc1*100)\n",
        "\n",
        "print(f'\\n The accuracy for LR is {round(acc1 *100,3)}% \\n')"
      ],
      "execution_count": 0,
      "outputs": [
        {
          "output_type": "stream",
          "text": [
            "\n",
            " The accuracy for LR is 97.413% \n",
            "\n"
          ],
          "name": "stdout"
        }
      ]
    },
    {
      "cell_type": "markdown",
      "metadata": {
        "id": "y-vwXCdoGokG",
        "colab_type": "text"
      },
      "source": [
        "## KNN"
      ]
    },
    {
      "cell_type": "markdown",
      "metadata": {
        "id": "GR2-N891GokG",
        "colab_type": "text"
      },
      "source": [
        "### Elbow method\n",
        "* The K nearest neighboor is an algorithm that requires to set a hyperparameter k, which is the number of nearest neigboors. In order to find the best k, let's use the elbow method."
      ]
    },
    {
      "cell_type": "code",
      "metadata": {
        "id": "0K10EgISGokI",
        "colab_type": "code",
        "colab": {}
      },
      "source": [
        "error_rate = []\n",
        "for i in range(1,10):\n",
        "    \n",
        "    knn = KNeighborsClassifier(n_neighbors=i)\n",
        "    knn.fit(x_train_std,y_train)\n",
        "    pred_i = knn.predict(x_test)\n",
        "    acc = accuracy_score(y_test, pred_i)\n",
        "    error_rate.append(np.mean(pred_i != y_test))\n",
        "    "
      ],
      "execution_count": 0,
      "outputs": []
    },
    {
      "cell_type": "code",
      "metadata": {
        "id": "JVNu1AQMGokM",
        "colab_type": "code",
        "outputId": "106a7333-9585-4dd0-85f7-31e1b90a16fd",
        "colab": {
          "base_uri": "https://localhost:8080/",
          "height": 427
        }
      },
      "source": [
        "plt.figure(figsize=(10,6))\n",
        "plt.plot(range(1,10),error_rate,color='blue', linestyle='dashed', marker='o',markerfacecolor='red', markersize=10)\n",
        "plt.title('Error Rate vs. K Value')\n",
        "plt.xlabel('K')\n",
        "plt.ylabel('Error Rate')"
      ],
      "execution_count": 0,
      "outputs": [
        {
          "output_type": "execute_result",
          "data": {
            "text/plain": [
              "Text(0, 0.5, 'Error Rate')"
            ]
          },
          "metadata": {
            "tags": []
          },
          "execution_count": 76
        },
        {
          "output_type": "display_data",
          "data": {
            "image/png": "[encoded data removed]",
            "text/plain": [
              "<Figure size 720x432 with 1 Axes>"
            ]
          },
          "metadata": {
            "tags": []
          }
        }
      ]
    },
    {
      "cell_type": "markdown",
      "metadata": {
        "id": "MpHmsp32GokQ",
        "colab_type": "text"
      },
      "source": [
        "### So the best value of k is 2 since at that level, the error is very small."
      ]
    },
    {
      "cell_type": "code",
      "metadata": {
        "id": "_nP6tUWMqm_-",
        "colab_type": "code",
        "outputId": "e3e258a9-5b72-4726-830f-2c8e1771edeb",
        "colab": {
          "base_uri": "https://localhost:8080/",
          "height": 69
        }
      },
      "source": [
        "## Let's train the KNN model\n",
        "\n",
        "\n",
        "neigh = KNeighborsClassifier(n_neighbors=2)\n",
        "neigh"
      ],
      "execution_count": 0,
      "outputs": [
        {
          "output_type": "execute_result",
          "data": {
            "text/plain": [
              "KNeighborsClassifier(algorithm='auto', leaf_size=30, metric='minkowski',\n",
              "                     metric_params=None, n_jobs=None, n_neighbors=2, p=2,\n",
              "                     weights='uniform')"
            ]
          },
          "metadata": {
            "tags": []
          },
          "execution_count": 77
        }
      ]
    },
    {
      "cell_type": "code",
      "metadata": {
        "id": "5al0ye7AGokQ",
        "colab_type": "code",
        "outputId": "33da39e1-4f92-49fd-d823-edba55a94dd6",
        "colab": {
          "base_uri": "https://localhost:8080/",
          "height": 69
        }
      },
      "source": [
        "\n",
        "start = timer()\n",
        "neigh.fit(x_train_std, y_train)\n",
        "end = timer()\n",
        "knn_train_time = end - start\n",
        "\n",
        "train_time.append(knn_train_time)\n",
        "print(f'\\n The training time for KNN is {round(knn_train_time,3)} \\n')"
      ],
      "execution_count": 0,
      "outputs": [
        {
          "output_type": "stream",
          "text": [
            "\n",
            " The training time for KNN is 6.07 seconds\n",
            "\n"
          ],
          "name": "stdout"
        }
      ]
    },
    {
      "cell_type": "code",
      "metadata": {
        "id": "YDeFkNc7GokS",
        "colab_type": "code",
        "outputId": "32515de9-bdeb-46b8-9a36-27ae1716147e",
        "colab": {
          "base_uri": "https://localhost:8080/",
          "height": 69
        }
      },
      "source": [
        "## Let's do the prediction of the KNN model\n",
        "\n",
        "start = timer()\n",
        "y_pred2 = neigh.predict(x_test)\n",
        "end = timer()\n",
        "knn_test_time = end - start\n",
        "\n",
        "test_time.append(knn_test_time)\n",
        "print(f'\\n The testing time for KNN is {round(knn_test_time,3)} \\n')"
      ],
      "execution_count": 0,
      "outputs": [
        {
          "output_type": "stream",
          "text": [
            "\n",
            " The testing time for KNN is 1.263 seconds\n",
            "\n"
          ],
          "name": "stdout"
        }
      ]
    },
    {
      "cell_type": "code",
      "metadata": {
        "id": "_7x1EN2EGokW",
        "colab_type": "code",
        "outputId": "56d22a86-25aa-4bb2-8cb4-4238cd98e8b4",
        "colab": {
          "base_uri": "https://localhost:8080/",
          "height": 69
        }
      },
      "source": [
        "# Let's compute the accuracy of the KNN model\n",
        "\n",
        "acc2 = accuracy_score(y_test, y_pred2)\n",
        "accuracy.append(acc2*100)\n",
        "\n",
        "print(f'\\n The accuracy for KNN is {round(acc2*100, 3)}% \\n')"
      ],
      "execution_count": 0,
      "outputs": [
        {
          "output_type": "stream",
          "text": [
            "\n",
            " The accuracy for KNN is 99.979% \n",
            "\n"
          ],
          "name": "stdout"
        }
      ]
    },
    {
      "cell_type": "markdown",
      "metadata": {
        "id": "_UZ3AmPeGokY",
        "colab_type": "text"
      },
      "source": [
        "## SVM"
      ]
    },
    {
      "cell_type": "code",
      "metadata": {
        "id": "mEIulafuq7Ex",
        "colab_type": "code",
        "outputId": "dc1b992a-42e1-4bcc-83ce-509031481a67",
        "colab": {
          "base_uri": "https://localhost:8080/",
          "height": 87
        }
      },
      "source": [
        "# Let's train  the SVM model\n",
        "\n",
        "svm_clf = svm.SVC(C=2, kernel='rbf')\n",
        "svm_clf"
      ],
      "execution_count": 0,
      "outputs": [
        {
          "output_type": "execute_result",
          "data": {
            "text/plain": [
              "SVC(C=2, break_ties=False, cache_size=200, class_weight=None, coef0=0.0,\n",
              "    decision_function_shape='ovr', degree=3, gamma='scale', kernel='rbf',\n",
              "    max_iter=-1, probability=False, random_state=None, shrinking=True,\n",
              "    tol=0.001, verbose=False)"
            ]
          },
          "metadata": {
            "tags": []
          },
          "execution_count": 81
        }
      ]
    },
    {
      "cell_type": "code",
      "metadata": {
        "id": "8wwuFpg-GokZ",
        "colab_type": "code",
        "outputId": "f44e131e-a6fa-433b-bff4-ad7ab85b4976",
        "colab": {
          "base_uri": "https://localhost:8080/",
          "height": 69
        }
      },
      "source": [
        "\n",
        "start = timer()\n",
        "\n",
        "svm_clf.fit(x_train_std, y_train)\n",
        "\n",
        "end = timer()\n",
        "svm_train_time = end - start\n",
        "\n",
        "train_time.append(svm_train_time)\n",
        "print(f'\\n The training time for SVM is {round(svm_train_time ,3)} \\n')"
      ],
      "execution_count": 0,
      "outputs": [
        {
          "output_type": "stream",
          "text": [
            "\n",
            " The training time for SVM is 5.623 seconds\n",
            "\n"
          ],
          "name": "stdout"
        }
      ]
    },
    {
      "cell_type": "code",
      "metadata": {
        "id": "Wky49f0uGokc",
        "colab_type": "code",
        "outputId": "25fdf16d-427b-455a-a864-8908a880fa0a",
        "colab": {
          "base_uri": "https://localhost:8080/",
          "height": 69
        }
      },
      "source": [
        "\n",
        "\n",
        "# Let's do the prediction of the SVM model\n",
        "\n",
        "start = timer()\n",
        "\n",
        "y_pred3 = svm_clf.predict(x_test)\n",
        "end = timer()\n",
        "svm_test_time = end - start\n",
        "\n",
        "test_time.append(svm_test_time)\n",
        "print(f'\\n The testing time for SVM is {round(svm_test_time ,3)} \\n')"
      ],
      "execution_count": 0,
      "outputs": [
        {
          "output_type": "stream",
          "text": [
            "\n",
            " The testing time for SVM is 0.594 seconds\n",
            "\n"
          ],
          "name": "stdout"
        }
      ]
    },
    {
      "cell_type": "code",
      "metadata": {
        "id": "AfxKYbdkGokf",
        "colab_type": "code",
        "outputId": "a4b7698b-181f-48a1-9521-510689d75811",
        "colab": {
          "base_uri": "https://localhost:8080/",
          "height": 69
        }
      },
      "source": [
        "\n",
        "\n",
        "# Let's compute the accuracy of the SVM model\n",
        "\n",
        "acc3 = accuracy_score(y_test, y_pred3)\n",
        "accuracy.append(acc3*100)\n",
        "\n",
        "print(f'\\n The accuracy for SVM is {round(acc3 *100,3)}% \\n')"
      ],
      "execution_count": 0,
      "outputs": [
        {
          "output_type": "stream",
          "text": [
            "\n",
            " The accuracy for SVM is 99.979% \n",
            "\n"
          ],
          "name": "stdout"
        }
      ]
    },
    {
      "cell_type": "markdown",
      "metadata": {
        "id": "aDLwHo8RGokk",
        "colab_type": "text"
      },
      "source": [
        "## Comparisons of the three models in terms of accuracy, training and testing time"
      ]
    },
    {
      "cell_type": "code",
      "metadata": {
        "id": "lH6e9P7CGokk",
        "colab_type": "code",
        "outputId": "e8c03fe8-4b7c-47e6-9902-f8262179a792",
        "colab": {
          "base_uri": "https://localhost:8080/",
          "height": 141
        }
      },
      "source": [
        "# Let's build a dataframe for a good visualization\n",
        "\n",
        "dic = {'Accuracy':accuracy, 'Training time':train_time, 'Testing time':test_time}\n",
        "summary = pd.DataFrame(dic, index=['LR', 'KNN', 'SVM'])\n",
        "summary"
      ],
      "execution_count": 0,
      "outputs": [
        {
          "output_type": "execute_result",
          "data": {
            "text/html": [
              "<div>\n",
              "<style scoped>\n",
              "    .dataframe tbody tr th:only-of-type {\n",
              "        vertical-align: middle;\n",
              "    }\n",
              "\n",
              "    .dataframe tbody tr th {\n",
              "        vertical-align: top;\n",
              "    }\n",
              "\n",
              "    .dataframe thead th {\n",
              "        text-align: right;\n",
              "    }\n",
              "</style>\n",
              "<table border=\"1\" class=\"dataframe\">\n",
              "  <thead>\n",
              "    <tr style=\"text-align: right;\">\n",
              "      <th></th>\n",
              "      <th>Accuracy</th>\n",
              "      <th>Training time</th>\n",
              "      <th>Testing time</th>\n",
              "    </tr>\n",
              "  </thead>\n",
              "  <tbody>\n",
              "    <tr>\n",
              "      <th>LR</th>\n",
              "      <td>97.413315</td>\n",
              "      <td>5.431712</td>\n",
              "      <td>0.003386</td>\n",
              "    </tr>\n",
              "    <tr>\n",
              "      <th>KNN</th>\n",
              "      <td>99.979196</td>\n",
              "      <td>6.069823</td>\n",
              "      <td>1.262725</td>\n",
              "    </tr>\n",
              "    <tr>\n",
              "      <th>SVM</th>\n",
              "      <td>99.979196</td>\n",
              "      <td>5.623372</td>\n",
              "      <td>0.594165</td>\n",
              "    </tr>\n",
              "  </tbody>\n",
              "</table>\n",
              "</div>"
            ],
            "text/plain": [
              "      Accuracy  Training time  Testing time\n",
              "LR   97.413315       5.431712      0.003386\n",
              "KNN  99.979196       6.069823      1.262725\n",
              "SVM  99.979196       5.623372      0.594165"
            ]
          },
          "metadata": {
            "tags": []
          },
          "execution_count": 85
        }
      ]
    },
    {
      "cell_type": "markdown",
      "metadata": {
        "id": "wG9_2Gb2Gokq",
        "colab_type": "text"
      },
      "source": [
        "## Simulated dataset"
      ]
    },
    {
      "cell_type": "code",
      "metadata": {
        "id": "VQODzsMjGokq",
        "colab_type": "code",
        "outputId": "85abc9d6-12cd-4f4c-d409-aa5a44720a0d",
        "colab": {
          "base_uri": "https://localhost:8080/",
          "height": 1000
        }
      },
      "source": [
        "from collections import defaultdict\n",
        "lamb1 = [4,6,12, .2]\n",
        "lamb2 = [12,2, .1, 1]\n",
        "cle = 0\n",
        "general_dict = defaultdict(lambda:defaultdict(lambda:0))\n",
        "\n",
        "for l1,l2 in zip(lamb1, lamb2):\n",
        "    dict1  = dict()\n",
        "    print('\\n\\n*****************************************************\\n')\n",
        "    print(f'Lambda1 is {l1} and lambda 2 is {l2}')\n",
        "    print('\\n****************************************************\\n\\n')\n",
        "    # target generation\n",
        "\n",
        "    weight1 = [.80, .01, .11, .04, .02, .01, .01]\n",
        "    weight = [.70, .01, .20, .01, .05, .02, .01]\n",
        "    target_m = []\n",
        "    for i, j in enumerate(weight1):\n",
        "      target_m.append([i] * int(j * 43000))\n",
        "\n",
        "    target_m = np.concatenate(target_m, axis=0)\n",
        "\n",
        "    #shuffle the data\n",
        "    np.random.shuffle(target_m)\n",
        "\n",
        "    target_mt = []\n",
        "    for i, j in enumerate(weight1):\n",
        "      target_mt.append([i] * int(j * 14000))\n",
        "\n",
        "    target_mt = np.concatenate(target_mt, axis=0)\n",
        "\n",
        "    #shuffle the data\n",
        "    np.random.shuffle(target_mt)\n",
        "    print(target_m.shape)\n",
        "\n",
        "    # Generate simulated training and test data\n",
        "    # feature generation\n",
        "    import scipy as sp\n",
        "    #np.random.seed(42)\n",
        "\n",
        "\n",
        "    dataframe_train = pd.DataFrame()\n",
        "    dataframe_test = pd.DataFrame()\n",
        "\n",
        "    for i in range(9):\n",
        "\n",
        "      dataframe_train['Variable'+str(i)]= sp.stats.expon.rvs(scale=1/l1, loc=0, size=43000) + np.random.normal(0, 100, 43000)\n",
        "\n",
        "      dataframe_test['Variable'+str(i)] = sp.stats.expon.rvs(scale=1/l2, loc=0, size=14000) + np.random.normal(0, 100, 14000)\n",
        "\n",
        "\n",
        "\n",
        "    # build the data\n",
        "    dataframe_train['target'] = target_m\n",
        "    dataframe_test['target'] = target_mt\n",
        "    dataframe_train.head()\n",
        "\n",
        "    # for the training data\n",
        "\n",
        "    z = dataframe_train.target\n",
        "    dataframe_train_modified = dataframe_train.drop(np.where(z == 1 )[0], axis=0)\n",
        "    dataframe_train_modified = dataframe_train_modified.drop(np.where(z == 4 )[0], axis=0)\n",
        "    dataframe_train_modified = dataframe_train_modified.drop(np.where(z == 5 )[0], axis=0)\n",
        "    dataframe_train_modified = dataframe_train_modified.drop(np.where(z == 6 )[0], axis=0)\n",
        "\n",
        "    ## for test\n",
        "\n",
        "    z = dataframe_test.target\n",
        "    dataframe_test_modified = dataframe_test.drop(np.where(z == 1 )[0], axis=0)\n",
        "    dataframe_test_modified = dataframe_test_modified.drop(np.where(z == 4 )[0], axis=0)\n",
        "    dataframe_test_modified = dataframe_test_modified.drop(np.where(z == 5 )[0], axis=0)\n",
        "    dataframe_test_modified = dataframe_test_modified.drop(np.where(z == 6 )[0], axis=0)\n",
        "\n",
        "    # training and target set\n",
        "\n",
        "    dataframe_train, target_m = dataframe_train_modified.iloc[:,:-1], dataframe_train_modified.iloc[:, -1]\n",
        "    dataframe_test, target_mt = dataframe_test_modified.iloc[:,:-1], dataframe_test_modified.iloc[:, -1]\n",
        "\n",
        "    # convert x_train to float\n",
        "    dataframe_train = dataframe_train.values.astype('float')\n",
        "    dataframe_test = dataframe_test.values.astype('float')\n",
        "\n",
        "    # to scale\n",
        "    rb_scaler = StandardScaler()\n",
        "    dataframe_train_ = rb_scaler.fit_transform(dataframe_train)\n",
        "    dataframe_test_ = rb_scaler.transform(dataframe_test)\n",
        "\n",
        "\n",
        "\n",
        "    ## time and accuracy\n",
        "\n",
        "    train_time = list()\n",
        "    test_time = list()\n",
        "    accuracy = list()\n",
        "\n",
        "    # Let's build the logistic regression model\n",
        "\n",
        "    start = timer()\n",
        "\n",
        "    lr_clf = LogisticRegression(C=10, random_state=0)\n",
        "    lr_clf.fit(dataframe_train_, target_m )\n",
        "    end = timer()\n",
        "    lr_train_time = end - start\n",
        "    train_time.append(lr_train_time)\n",
        "    print(f'\\n The training time for LR with simulated data is {round(lr_train_time,3)} \\n')\n",
        "\n",
        "\n",
        "    # Let's do the prediction of the Logistic regression model\n",
        "\n",
        "    start = timer()\n",
        "\n",
        "    y_pred = lr_clf.predict(dataframe_test_)\n",
        "    end = timer()\n",
        "    lr_test_time = end - start\n",
        "\n",
        "    test_time.append(lr_test_time)\n",
        "    print(f'\\n The testing time for LR is {round(lr_test_time,3)} \\n')\n",
        "\n",
        "    # Let's compute the accuracy for the Logistic Regression model\n",
        "\n",
        "    acc1 = accuracy_score(target_mt, y_pred)\n",
        "    accuracy.append(acc1*100)\n",
        "\n",
        "    print(f'\\n The accuracy for LR is {round(acc1 *100,3)}% \\n')\n",
        "\n",
        "    ########### KNN\n",
        "\n",
        "    # Let's compute the accuracy of the KNN model\n",
        "    ## Let's do the prediction of the KNN model\n",
        "    ## Let's train the KNN model\n",
        "\n",
        "    start = timer()\n",
        "    neigh = KNeighborsClassifier(n_neighbors=7)\n",
        "    neigh.fit(dataframe_train_, target_m)\n",
        "    end = timer()\n",
        "    knn_train_time = end - start\n",
        "\n",
        "    train_time.append(knn_train_time)\n",
        "    print(f'\\n The training time for KNN is {round(knn_train_time,3)} \\n')\n",
        "\n",
        "\n",
        "    start = timer()\n",
        "    y_pred2 = neigh.predict(dataframe_test_)\n",
        "    end = timer()\n",
        "    knn_test_time = end - start\n",
        "\n",
        "    test_time.append(knn_test_time)\n",
        "    print(f'\\n The testing time for KNN is {round(knn_test_time,3)} \\n')\n",
        "\n",
        "    acc2 = accuracy_score(target_mt, y_pred2)\n",
        "    accuracy.append(acc2*100)\n",
        "\n",
        "    print(f'\\n The accuracy for KNN is {round(acc2*100, 3)}% \\n')\n",
        "\n",
        "    #####SVM\n",
        "\n",
        "\n",
        "    # Let's train  the SVM model\n",
        "\n",
        "    start = timer()\n",
        "\n",
        "    svm_clf = svm.SVC(C=2, kernel='rbf')\n",
        "    svm_clf.fit(dataframe_train_, target_m)\n",
        "\n",
        "    end = timer()\n",
        "    svm_train_time = end - start\n",
        "\n",
        "    train_time.append(svm_train_time)\n",
        "    print(f'\\n The training time for SVM is {round(svm_train_time ,3)} \\n')\n",
        "\n",
        "    # # Let's do the prediction of the SVM model\n",
        "\n",
        "    start = timer()\n",
        "\n",
        "    y_pred3 = svm_clf.predict(dataframe_test_)\n",
        "    end = timer()\n",
        "    svm_test_time = end - start\n",
        "\n",
        "    test_time.append(svm_test_time)\n",
        "    print(f'\\n The testing time for SVM is {round(svm_test_time ,3)} \\n')\n",
        "\n",
        "\n",
        "    # # Let's compute the accuracy of the SVM model\n",
        "\n",
        "    acc3 = accuracy_score(target_mt, y_pred3)\n",
        "    accuracy.append(acc3*100)\n",
        "\n",
        "    print(f'\\n The accuracy for SVM is {round(acc3 *100,3)}% \\n')\n",
        "\n",
        "\n",
        "    general_dict[cle]['Testing time'] = test_time\n",
        "    general_dict[cle]['Training time'] = train_time\n",
        "    general_dict[cle]['Accuracy'] = accuracy\n",
        "\n",
        "    cle += 1"
      ],
      "execution_count": 9,
      "outputs": [
        {
          "output_type": "stream",
          "text": [
            "\n",
            "\n",
            "*****************************************************\n",
            "\n",
            "Lambda1 is 4 and lambda 2 is 12\n",
            "\n",
            "****************************************************\n",
            "\n",
            "\n",
            "(43000,)\n",
            "\n",
            " The training time for LR with simulated data is 0.228 \n",
            "\n",
            "\n",
            " The testing time for LR is 0.001 \n",
            "\n",
            "\n",
            " The accuracy for LR is 84.211% \n",
            "\n",
            "\n",
            " The training time for KNN is 0.085 \n",
            "\n",
            "\n",
            " The testing time for KNN is 3.206 \n",
            "\n",
            "\n",
            " The accuracy for KNN is 83.737% \n",
            "\n",
            "\n",
            " The training time for SVM is 506.486 \n",
            "\n",
            "\n",
            " The testing time for SVM is 7.69 \n",
            "\n",
            "\n",
            " The accuracy for SVM is 84.211% \n",
            "\n",
            "\n",
            "\n",
            "*****************************************************\n",
            "\n",
            "Lambda1 is 6 and lambda 2 is 2\n",
            "\n",
            "****************************************************\n",
            "\n",
            "\n",
            "(43000,)\n",
            "\n",
            " The training time for LR with simulated data is 0.224 \n",
            "\n",
            "\n",
            " The testing time for LR is 0.001 \n",
            "\n",
            "\n",
            " The accuracy for LR is 84.211% \n",
            "\n",
            "\n",
            " The training time for KNN is 0.075 \n",
            "\n",
            "\n",
            " The testing time for KNN is 3.053 \n",
            "\n",
            "\n",
            " The accuracy for KNN is 83.805% \n",
            "\n",
            "\n",
            " The training time for SVM is 530.921 \n",
            "\n",
            "\n",
            " The testing time for SVM is 7.86 \n",
            "\n",
            "\n",
            " The accuracy for SVM is 84.211% \n",
            "\n",
            "\n",
            "\n",
            "*****************************************************\n",
            "\n",
            "Lambda1 is 12 and lambda 2 is 0.1\n",
            "\n",
            "****************************************************\n",
            "\n",
            "\n",
            "(43000,)\n",
            "\n",
            " The training time for LR with simulated data is 0.225 \n",
            "\n",
            "\n",
            " The testing time for LR is 0.001 \n",
            "\n",
            "\n",
            " The accuracy for LR is 84.211% \n",
            "\n",
            "\n",
            " The training time for KNN is 0.082 \n",
            "\n",
            "\n",
            " The testing time for KNN is 3.07 \n",
            "\n",
            "\n",
            " The accuracy for KNN is 83.827% \n",
            "\n",
            "\n",
            " The training time for SVM is 529.513 \n",
            "\n",
            "\n",
            " The testing time for SVM is 7.848 \n",
            "\n",
            "\n",
            " The accuracy for SVM is 84.211% \n",
            "\n",
            "\n",
            "\n",
            "*****************************************************\n",
            "\n",
            "Lambda1 is 0.2 and lambda 2 is 1\n",
            "\n",
            "****************************************************\n",
            "\n",
            "\n",
            "(43000,)\n",
            "\n",
            " The training time for LR with simulated data is 0.222 \n",
            "\n",
            "\n",
            " The testing time for LR is 0.001 \n",
            "\n",
            "\n",
            " The accuracy for LR is 84.211% \n",
            "\n",
            "\n",
            " The training time for KNN is 0.078 \n",
            "\n",
            "\n",
            " The testing time for KNN is 3.148 \n",
            "\n",
            "\n",
            " The accuracy for KNN is 83.639% \n",
            "\n",
            "\n",
            " The training time for SVM is 537.167 \n",
            "\n",
            "\n",
            " The testing time for SVM is 8.022 \n",
            "\n",
            "\n",
            " The accuracy for SVM is 84.211% \n",
            "\n"
          ],
          "name": "stdout"
        }
      ]
    },
    {
      "cell_type": "markdown",
      "metadata": {
        "id": "rhvQ8oBzxq6w",
        "colab_type": "text"
      },
      "source": [
        "## Comparison of the three models on simulated dataset"
      ]
    },
    {
      "cell_type": "code",
      "metadata": {
        "id": "lqo-0t4RWJJ4",
        "colab_type": "code",
        "colab": {
          "base_uri": "https://localhost:8080/",
          "height": 193
        },
        "outputId": "a7611986-1f2e-41dc-9a14-35124695cdc2"
      },
      "source": [
        "# Let's build a dataframe for a better visualization \n",
        "print(f'lambda0 is: {lamb1[0]} and lambda1 is {lamb2[0]}\\n\\n')\n",
        "\n",
        "pd.DataFrame(general_dict[0], index = ['LR', 'KNN', 'SVM'])"
      ],
      "execution_count": 10,
      "outputs": [
        {
          "output_type": "stream",
          "text": [
            "lambda0 is: 4 and lambda1 is 12\n",
            "\n",
            "\n"
          ],
          "name": "stdout"
        },
        {
          "output_type": "execute_result",
          "data": {
            "text/html": [
              "<div>\n",
              "<style scoped>\n",
              "    .dataframe tbody tr th:only-of-type {\n",
              "        vertical-align: middle;\n",
              "    }\n",
              "\n",
              "    .dataframe tbody tr th {\n",
              "        vertical-align: top;\n",
              "    }\n",
              "\n",
              "    .dataframe thead th {\n",
              "        text-align: right;\n",
              "    }\n",
              "</style>\n",
              "<table border=\"1\" class=\"dataframe\">\n",
              "  <thead>\n",
              "    <tr style=\"text-align: right;\">\n",
              "      <th></th>\n",
              "      <th>Testing time</th>\n",
              "      <th>Training time</th>\n",
              "      <th>Accuracy</th>\n",
              "    </tr>\n",
              "  </thead>\n",
              "  <tbody>\n",
              "    <tr>\n",
              "      <th>LR</th>\n",
              "      <td>0.001237</td>\n",
              "      <td>0.228129</td>\n",
              "      <td>84.210526</td>\n",
              "    </tr>\n",
              "    <tr>\n",
              "      <th>KNN</th>\n",
              "      <td>3.205979</td>\n",
              "      <td>0.085435</td>\n",
              "      <td>83.736842</td>\n",
              "    </tr>\n",
              "    <tr>\n",
              "      <th>SVM</th>\n",
              "      <td>7.690269</td>\n",
              "      <td>506.486403</td>\n",
              "      <td>84.210526</td>\n",
              "    </tr>\n",
              "  </tbody>\n",
              "</table>\n",
              "</div>"
            ],
            "text/plain": [
              "     Testing time  Training time   Accuracy\n",
              "LR       0.001237       0.228129  84.210526\n",
              "KNN      3.205979       0.085435  83.736842\n",
              "SVM      7.690269     506.486403  84.210526"
            ]
          },
          "metadata": {
            "tags": []
          },
          "execution_count": 10
        }
      ]
    },
    {
      "cell_type": "code",
      "metadata": {
        "id": "2nglwAy8fK78",
        "colab_type": "code",
        "colab": {
          "base_uri": "https://localhost:8080/",
          "height": 193
        },
        "outputId": "b60e051d-d08c-4253-8d5c-75a4d345064e"
      },
      "source": [
        "# Dataframe of the three classifiers when lamda1=4 and lambda2=12\n",
        "print(f'lambda0 is: {lamb1[1]} and lambda1 is {lamb2[1]}\\n\\n')\n",
        "pd.DataFrame(general_dict[1], index = ['LR', 'KNN', 'SVM'])"
      ],
      "execution_count": 11,
      "outputs": [
        {
          "output_type": "stream",
          "text": [
            "lambda0 is: 6 and lambda1 is 2\n",
            "\n",
            "\n"
          ],
          "name": "stdout"
        },
        {
          "output_type": "execute_result",
          "data": {
            "text/html": [
              "<div>\n",
              "<style scoped>\n",
              "    .dataframe tbody tr th:only-of-type {\n",
              "        vertical-align: middle;\n",
              "    }\n",
              "\n",
              "    .dataframe tbody tr th {\n",
              "        vertical-align: top;\n",
              "    }\n",
              "\n",
              "    .dataframe thead th {\n",
              "        text-align: right;\n",
              "    }\n",
              "</style>\n",
              "<table border=\"1\" class=\"dataframe\">\n",
              "  <thead>\n",
              "    <tr style=\"text-align: right;\">\n",
              "      <th></th>\n",
              "      <th>Testing time</th>\n",
              "      <th>Training time</th>\n",
              "      <th>Accuracy</th>\n",
              "    </tr>\n",
              "  </thead>\n",
              "  <tbody>\n",
              "    <tr>\n",
              "      <th>LR</th>\n",
              "      <td>0.000963</td>\n",
              "      <td>0.223706</td>\n",
              "      <td>84.210526</td>\n",
              "    </tr>\n",
              "    <tr>\n",
              "      <th>KNN</th>\n",
              "      <td>3.052781</td>\n",
              "      <td>0.075124</td>\n",
              "      <td>83.804511</td>\n",
              "    </tr>\n",
              "    <tr>\n",
              "      <th>SVM</th>\n",
              "      <td>7.860101</td>\n",
              "      <td>530.920926</td>\n",
              "      <td>84.210526</td>\n",
              "    </tr>\n",
              "  </tbody>\n",
              "</table>\n",
              "</div>"
            ],
            "text/plain": [
              "     Testing time  Training time   Accuracy\n",
              "LR       0.000963       0.223706  84.210526\n",
              "KNN      3.052781       0.075124  83.804511\n",
              "SVM      7.860101     530.920926  84.210526"
            ]
          },
          "metadata": {
            "tags": []
          },
          "execution_count": 11
        }
      ]
    },
    {
      "cell_type": "code",
      "metadata": {
        "id": "MconagHFGOdb",
        "colab_type": "code",
        "colab": {
          "base_uri": "https://localhost:8080/",
          "height": 193
        },
        "outputId": "3598308b-5518-4e7b-d4f8-9ff834e48db8"
      },
      "source": [
        "print(f'lambda0 is: {lamb1[2]} and lambda1 is {lamb2[2]}\\n\\n')\n",
        "\n",
        "pd.DataFrame(general_dict[2], index = ['LR', 'KNN', 'SVM'])"
      ],
      "execution_count": 12,
      "outputs": [
        {
          "output_type": "stream",
          "text": [
            "lambda0 is: 12 and lambda1 is 0.1\n",
            "\n",
            "\n"
          ],
          "name": "stdout"
        },
        {
          "output_type": "execute_result",
          "data": {
            "text/html": [
              "<div>\n",
              "<style scoped>\n",
              "    .dataframe tbody tr th:only-of-type {\n",
              "        vertical-align: middle;\n",
              "    }\n",
              "\n",
              "    .dataframe tbody tr th {\n",
              "        vertical-align: top;\n",
              "    }\n",
              "\n",
              "    .dataframe thead th {\n",
              "        text-align: right;\n",
              "    }\n",
              "</style>\n",
              "<table border=\"1\" class=\"dataframe\">\n",
              "  <thead>\n",
              "    <tr style=\"text-align: right;\">\n",
              "      <th></th>\n",
              "      <th>Testing time</th>\n",
              "      <th>Training time</th>\n",
              "      <th>Accuracy</th>\n",
              "    </tr>\n",
              "  </thead>\n",
              "  <tbody>\n",
              "    <tr>\n",
              "      <th>LR</th>\n",
              "      <td>0.000884</td>\n",
              "      <td>0.225039</td>\n",
              "      <td>84.210526</td>\n",
              "    </tr>\n",
              "    <tr>\n",
              "      <th>KNN</th>\n",
              "      <td>3.070037</td>\n",
              "      <td>0.081598</td>\n",
              "      <td>83.827068</td>\n",
              "    </tr>\n",
              "    <tr>\n",
              "      <th>SVM</th>\n",
              "      <td>7.847578</td>\n",
              "      <td>529.513173</td>\n",
              "      <td>84.210526</td>\n",
              "    </tr>\n",
              "  </tbody>\n",
              "</table>\n",
              "</div>"
            ],
            "text/plain": [
              "     Testing time  Training time   Accuracy\n",
              "LR       0.000884       0.225039  84.210526\n",
              "KNN      3.070037       0.081598  83.827068\n",
              "SVM      7.847578     529.513173  84.210526"
            ]
          },
          "metadata": {
            "tags": []
          },
          "execution_count": 12
        }
      ]
    },
    {
      "cell_type": "code",
      "metadata": {
        "id": "T3WtSNVrGOl6",
        "colab_type": "code",
        "colab": {
          "base_uri": "https://localhost:8080/",
          "height": 193
        },
        "outputId": "de817474-aa64-4830-f8ce-80248c1cd64b"
      },
      "source": [
        "print(f'lambda0 is: {lamb1[3]} and lambda1 is {lamb2[3]}\\n\\n')\n",
        "\n",
        "pd.DataFrame(general_dict[3], index = ['LR', 'KNN', 'SVM'])"
      ],
      "execution_count": 13,
      "outputs": [
        {
          "output_type": "stream",
          "text": [
            "lambda0 is: 0.2 and lambda1 is 1\n",
            "\n",
            "\n"
          ],
          "name": "stdout"
        },
        {
          "output_type": "execute_result",
          "data": {
            "text/html": [
              "<div>\n",
              "<style scoped>\n",
              "    .dataframe tbody tr th:only-of-type {\n",
              "        vertical-align: middle;\n",
              "    }\n",
              "\n",
              "    .dataframe tbody tr th {\n",
              "        vertical-align: top;\n",
              "    }\n",
              "\n",
              "    .dataframe thead th {\n",
              "        text-align: right;\n",
              "    }\n",
              "</style>\n",
              "<table border=\"1\" class=\"dataframe\">\n",
              "  <thead>\n",
              "    <tr style=\"text-align: right;\">\n",
              "      <th></th>\n",
              "      <th>Testing time</th>\n",
              "      <th>Training time</th>\n",
              "      <th>Accuracy</th>\n",
              "    </tr>\n",
              "  </thead>\n",
              "  <tbody>\n",
              "    <tr>\n",
              "      <th>LR</th>\n",
              "      <td>0.000911</td>\n",
              "      <td>0.222003</td>\n",
              "      <td>84.210526</td>\n",
              "    </tr>\n",
              "    <tr>\n",
              "      <th>KNN</th>\n",
              "      <td>3.147899</td>\n",
              "      <td>0.077551</td>\n",
              "      <td>83.639098</td>\n",
              "    </tr>\n",
              "    <tr>\n",
              "      <th>SVM</th>\n",
              "      <td>8.021948</td>\n",
              "      <td>537.167184</td>\n",
              "      <td>84.210526</td>\n",
              "    </tr>\n",
              "  </tbody>\n",
              "</table>\n",
              "</div>"
            ],
            "text/plain": [
              "     Testing time  Training time   Accuracy\n",
              "LR       0.000911       0.222003  84.210526\n",
              "KNN      3.147899       0.077551  83.639098\n",
              "SVM      8.021948     537.167184  84.210526"
            ]
          },
          "metadata": {
            "tags": []
          },
          "execution_count": 13
        }
      ]
    },
    {
      "cell_type": "code",
      "metadata": {
        "id": "pIup2l6HnYAG",
        "colab_type": "code",
        "colab": {}
      },
      "source": [
        ""
      ],
      "execution_count": 0,
      "outputs": []
    }
  ]
}